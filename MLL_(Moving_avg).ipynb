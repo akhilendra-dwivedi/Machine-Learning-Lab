{
  "nbformat": 4,
  "nbformat_minor": 0,
  "metadata": {
    "colab": {
      "provenance": []
    },
    "kernelspec": {
      "name": "python3",
      "display_name": "Python 3"
    },
    "language_info": {
      "name": "python"
    }
  },
  "cells": [
    {
      "cell_type": "code",
      "execution_count": 1,
      "metadata": {
        "id": "eRqk4BdAKlaK"
      },
      "outputs": [],
      "source": [
        "def calculate_moving_average(data, k):\n",
        "    moving_averages = []\n",
        "    for i in range(len(data) - k + 1):\n",
        "        window = data[i : i + k]\n",
        "        window_average = sum(window) / k\n",
        "        moving_averages.append(window_average)\n",
        "    return moving_averages"
      ]
    },
    {
      "cell_type": "code",
      "source": [
        "# Example Usage: The Funnel Cake Scenario\n",
        "funnel_cake_in_kg = [2, 3, 2.5, 4, 3.5, 5, 4.5, 5.5, 5, 6]\n",
        "# Here i am calculating  a 4-day moving average.\n",
        "window = 4\n",
        "results = calculate_moving_average(funnel_cake_in_kg, window)"
      ],
      "metadata": {
        "id": "Vf-DJX_LLCmP"
      },
      "execution_count": 5,
      "outputs": []
    },
    {
      "cell_type": "code",
      "source": [
        "print(f\"Daily Funnel Cake Received (kg): {funnel_cake_in_kg}\")\n",
        "print(f\"\\n{window}-Day Moving Average of Funnel Cake:\")\n",
        "\n",
        "for i, avg in enumerate(results):\n",
        "    print(f\"  - Average for days ending on Day {i + window}: {avg:.2f} kg\")"
      ],
      "metadata": {
        "colab": {
          "base_uri": "https://localhost:8080/"
        },
        "id": "Jf9GuaUHLcCR",
        "outputId": "c21dae08-b66d-42a7-8f20-d745da405337"
      },
      "execution_count": 6,
      "outputs": [
        {
          "output_type": "stream",
          "name": "stdout",
          "text": [
            "Daily Funnel Cake Received (kg): [2, 3, 2.5, 4, 3.5, 5, 4.5, 5.5, 5, 6]\n",
            "\n",
            "4-Day Moving Average of Funnel Cake:\n",
            "  - Average for days ending on Day 4: 2.88 kg\n",
            "  - Average for days ending on Day 5: 3.25 kg\n",
            "  - Average for days ending on Day 6: 3.75 kg\n",
            "  - Average for days ending on Day 7: 4.25 kg\n",
            "  - Average for days ending on Day 8: 4.62 kg\n",
            "  - Average for days ending on Day 9: 5.00 kg\n",
            "  - Average for days ending on Day 10: 5.25 kg\n"
          ]
        }
      ]
    },
    {
      "cell_type": "code",
      "source": [],
      "metadata": {
        "id": "AhBrm4ZrLroz"
      },
      "execution_count": null,
      "outputs": []
    }
  ]
}